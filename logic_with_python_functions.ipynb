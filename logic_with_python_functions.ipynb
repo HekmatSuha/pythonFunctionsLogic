{
 "cells": [
  {
   "cell_type": "code",
   "execution_count": 3,
   "metadata": {},
   "outputs": [
    {
     "data": {
      "text/plain": [
       "True"
      ]
     },
     "execution_count": 3,
     "metadata": {},
     "output_type": "execute_result"
    }
   ],
   "source": [
    "def even_check(number):\n",
    "   result =  number % 2 == 0\n",
    "   return result\n",
    "\n",
    "even_check(34)"
   ]
  },
  {
   "cell_type": "code",
   "execution_count": 19,
   "metadata": {},
   "outputs": [
    {
     "data": {
      "text/plain": [
       "[2, 6]"
      ]
     },
     "execution_count": 19,
     "metadata": {},
     "output_type": "execute_result"
    }
   ],
   "source": [
    "# RETRUN TRUE IF ANY NUMBER IS EVEN INSIDE A LIST\n",
    "\n",
    "def check_even_list(num_list):\n",
    "\n",
    "    even_numbers = []\n",
    "    \n",
    "\n",
    "    for number in num_list:\n",
    "        if number % 2 == 0:\n",
    "             even_numbers.append(number)\n",
    "        else:\n",
    "            pass\n",
    "    return even_numbers    \n",
    "\n",
    "check_even_list([1,2,5,6])\n"
   ]
  },
  {
   "cell_type": "code",
   "execution_count": 21,
   "metadata": {},
   "outputs": [
    {
     "data": {
      "text/plain": [
       "('Cassie', 800)"
      ]
     },
     "execution_count": 21,
     "metadata": {},
     "output_type": "execute_result"
    }
   ],
   "source": [
    "work_hours = [('Abby',100),('Billy',400),('Cassie',800)]\n",
    "\n",
    "def employee_check(work_hours):\n",
    "\n",
    "    current_max = 0\n",
    "    employee_of_month = ''\n",
    "\n",
    "    for employee,hours in work_hours:\n",
    "        if hours > current_max:\n",
    "            current_max = hours\n",
    "            employee_of_month = employee\n",
    "        else:\n",
    "            pass\n",
    "\n",
    "\n",
    "    #Return\n",
    "    return (employee_of_month,current_max)\n",
    "\n",
    "employee_check(work_hours)"
   ]
  }
 ],
 "metadata": {
  "kernelspec": {
   "display_name": "Python 3",
   "language": "python",
   "name": "python3"
  },
  "language_info": {
   "codemirror_mode": {
    "name": "ipython",
    "version": 3
   },
   "file_extension": ".py",
   "mimetype": "text/x-python",
   "name": "python",
   "nbconvert_exporter": "python",
   "pygments_lexer": "ipython3",
   "version": "3.12.0"
  }
 },
 "nbformat": 4,
 "nbformat_minor": 2
}
